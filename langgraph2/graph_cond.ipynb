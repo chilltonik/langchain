{
 "cells": [
  {
   "cell_type": "code",
   "id": "initial_id",
   "metadata": {
    "collapsed": true,
    "ExecuteTime": {
     "end_time": "2025-07-25T08:40:34.790877Z",
     "start_time": "2025-07-25T08:40:34.788162Z"
    }
   },
   "source": [
    "from typing import TypedDict\n",
    "from langgraph.graph import StateGraph, START, END"
   ],
   "outputs": [],
   "execution_count": 2
  },
  {
   "metadata": {
    "ExecuteTime": {
     "end_time": "2025-07-25T08:42:59.270603Z",
     "start_time": "2025-07-25T08:42:59.265210Z"
    }
   },
   "cell_type": "code",
   "source": [
    "class AgentState(TypedDict):\n",
    "    number1: int\n",
    "    operation: str\n",
    "    number2: int\n",
    "    final_number: int"
   ],
   "id": "69a777529eef0e0c",
   "outputs": [],
   "execution_count": 3
  },
  {
   "metadata": {
    "ExecuteTime": {
     "end_time": "2025-07-25T08:48:45.513516Z",
     "start_time": "2025-07-25T08:48:45.509474Z"
    }
   },
   "cell_type": "code",
   "source": [
    "def adder(state: AgentState) -> AgentState:\n",
    "    \"\"\"This node add 2 numbers\"\"\"\n",
    "    state[\"final_number\"] = state[\"number1\"] + state[\"number2\"]\n",
    "    return state\n",
    "\n",
    "\n",
    "def subtractor(state: AgentState) -> AgentState:\n",
    "    \"\"\"This node subtract 2 numbers\"\"\"\n",
    "    state[\"final_number\"] = state[\"number1\"] - state[\"number2\"]\n",
    "    return state\n",
    "\n",
    "\n",
    "def decide_next_node(state: AgentState) -> AgentState:\n",
    "    \"\"\"This node will select the next phase of the graph\"\"\"\n",
    "    if state[\"operation\"] == \"+\":\n",
    "        return \"addition_opertation\"\n",
    "    elif state[\"operation\"] == \"-\":\n",
    "        return \"subtractor_operation\""
   ],
   "id": "4d277ece6e3054ed",
   "outputs": [],
   "execution_count": 5
  },
  {
   "metadata": {
    "ExecuteTime": {
     "end_time": "2025-07-25T08:58:05.992431Z",
     "start_time": "2025-07-25T08:58:05.986720Z"
    }
   },
   "cell_type": "code",
   "source": [
    "graph = StateGraph(AgentState)\n",
    "\n",
    "graph.add_node(\"add_node\", adder)\n",
    "graph.add_node(\"subtract_node\", subtractor)\n",
    "graph.add_node(\"router\", lambda state: state)  # passthrough function\n",
    "\n",
    "graph.add_edge(START, \"router\")\n",
    "\n",
    "graph.add_conditional_edges(\n",
    "    \"router\",\n",
    "    decide_next_node,\n",
    "    {\n",
    "        # Edge: Node\n",
    "        \"addition_opertation\": \"add_node\",\n",
    "        \"subtractor_operation\": \"subtract_node\",\n",
    "    },\n",
    ")\n",
    "\n",
    "graph.add_edge(\"add_node\", END)\n",
    "graph.add_edge(\"subtract_node\", END)\n",
    "\n",
    "app = graph.compile()"
   ],
   "id": "8940c1db4d739347",
   "outputs": [],
   "execution_count": 6
  },
  {
   "metadata": {
    "ExecuteTime": {
     "end_time": "2025-07-25T08:58:16.374396Z",
     "start_time": "2025-07-25T08:58:15.812725Z"
    }
   },
   "cell_type": "code",
   "source": [
    "from IPython.display import Image, display\n",
    "\n",
    "display((Image(app.get_graph().draw_mermaid_png())))"
   ],
   "id": "d54ea5cc069f3d6b",
   "outputs": [
    {
     "data": {
      "image/png": "[encoded data removed]",
      "text/plain": [
       "<IPython.core.display.Image object>"
      ]
     },
     "metadata": {},
     "output_type": "display_data"
    }
   ],
   "execution_count": 7
  },
  {
   "metadata": {
    "ExecuteTime": {
     "end_time": "2025-07-25T09:08:15.042382Z",
     "start_time": "2025-07-25T09:08:15.030764Z"
    }
   },
   "cell_type": "code",
   "source": [
    "initial_state_1 = AgentState(number1=1, operation=\"+\", number2=2)\n",
    "print(app.invoke(initial_state_1))"
   ],
   "id": "98b2ca4c153f9c46",
   "outputs": [
    {
     "name": "stdout",
     "output_type": "stream",
     "text": [
      "{'number1': 1, 'operation': '+', 'number2': 2, 'final_number': 3}\n"
     ]
    }
   ],
   "execution_count": 8
  }
 ],
 "metadata": {
  "kernelspec": {
   "display_name": "Python 3",
   "language": "python",
   "name": "python3"
  },
  "language_info": {
   "codemirror_mode": {
    "name": "ipython",
    "version": 2
   },
   "file_extension": ".py",
   "mimetype": "text/x-python",
   "name": "python",
   "nbconvert_exporter": "python",
   "pygments_lexer": "ipython2",
   "version": "2.7.6"
  }
 },
 "nbformat": 4,
 "nbformat_minor": 5
}
